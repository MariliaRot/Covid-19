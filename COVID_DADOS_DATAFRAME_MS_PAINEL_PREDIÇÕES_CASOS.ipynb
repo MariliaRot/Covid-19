{
  "nbformat": 4,
  "nbformat_minor": 0,
  "metadata": {
    "colab": {
      "name": "COVID-DADOS-DATAFRAME-MS-PAINEL-PREDIÇÕES-CASOS.ipynb",
      "provenance": [],
      "collapsed_sections": [],
      "authorship_tag": "ABX9TyMOt0vKTBp24eIxjWxtCSPS",
      "include_colab_link": true
    },
    "kernelspec": {
      "name": "python3",
      "display_name": "Python 3"
    }
  },
  "cells": [
    {
      "cell_type": "markdown",
      "metadata": {
        "id": "view-in-github",
        "colab_type": "text"
      },
      "source": [
        "<a href=\"https://colab.research.google.com/github/MariliaRot/Covid-19/blob/master/COVID_DADOS_DATAFRAME_MS_PAINEL_PREDI%C3%87%C3%95ES_CASOS.ipynb\" target=\"_parent\"><img src=\"https://colab.research.google.com/assets/colab-badge.svg\" alt=\"Open In Colab\"/></a>"
      ]
    },
    {
      "cell_type": "markdown",
      "metadata": {
        "id": "akSUbHJaW_26",
        "colab_type": "text"
      },
      "source": [
        "# Análise exploratoria de dados - COVID19 no Ceará\n",
        "Objetivo = estudar algoritmos de predição com a base de dados do Ministerio da Saude.\n",
        "\n",
        "Fonte da base de dados : Painel Corona Virus - Ministerio da Saude (https://covid.saude.gov.br/)\n",
        "\n",
        "Algoritmos Copiados https://github.com/CSSEGISandData/COVID-19.git"
      ]
    },
    {
      "cell_type": "code",
      "metadata": {
        "id": "d7SLMLmJTjWu",
        "colab_type": "code",
        "colab": {}
      },
      "source": [
        "# Montando o Google Drive para obtenção da base de dados\n",
        "from google.colab import drive\n",
        "drive.mount('/content/drive')"
      ],
      "execution_count": null,
      "outputs": []
    },
    {
      "cell_type": "code",
      "metadata": {
        "id": "MttAxhwjUXpm",
        "colab_type": "code",
        "colab": {}
      },
      "source": [
        "#IMPORTANDO BIBLIOTECAS\n",
        "import pandas as pd\n",
        "import numpy as np\n",
        "import matplotlib\n",
        "import matplotlib.pyplot as plt\n",
        "import matplotlib.patches as mpatches\n",
        "import datetime\n",
        "from datetime import datetime, timedelta, date\n",
        "from scipy.integrate import odeint\n",
        "from scipy.optimize import minimize\n",
        "from scipy import linalg, optimize"
      ],
      "execution_count": null,
      "outputs": []
    },
    {
      "cell_type": "code",
      "metadata": {
        "id": "_SzenSyoUbFk",
        "colab_type": "code",
        "colab": {}
      },
      "source": [
        "# IMportando o arquivo CSV do GoogleDrive\n",
        "caminho_dados_br_originais = '/content/drive/My Drive/Colab Notebooks/PAINEL_MINISTERIO_DA_SAUDE-BR/HIST-COVIDBR-26082020.csv'\n",
        "caminho_dados_limpos_julho = '/content/drive/My Drive/Colab Notebooks/PAINEL_MINISTERIO_DA_SAUDE-BR/dadosCE-31-07-2020.csv'\n",
        "caminho_dados_limpos_agosto = '/content/drive/My Drive/Colab Notebooks/PAINEL_MINISTERIO_DA_SAUDE-BR/dadosCE-26-08-2020.csv'\n",
        "\n",
        "dadosBRbruto = pd.read_csv(caminho_dados_br)\n",
        "dadosJulho = pd.read_csv(caminho_dados_limpos_julho)\n",
        "dadosAgosto= pd.read_csv(caminho_dados_limpos_agosto)"
      ],
      "execution_count": null,
      "outputs": []
    },
    {
      "cell_type": "code",
      "metadata": {
        "id": "Gcd8x5WUUm5k",
        "colab_type": "code",
        "colab": {}
      },
      "source": [
        "#colocando dados casos acumludados e suas datas em listas\n",
        "import datetime\n",
        "xxxdata = dadosJulho['data']\n",
        "ydata =dadosJulho['casosAcumulado'].to_numpy()\n",
        "xdata = pd.to_datetime(xxxdata)\n",
        "mortos = dadosJulho['obitosAcumulado'].to_numpy()"
      ],
      "execution_count": null,
      "outputs": []
    },
    {
      "cell_type": "code",
      "metadata": {
        "id": "zf5W0n7MTkh4",
        "colab_type": "code",
        "colab": {}
      },
      "source": [
        "# Criando função para plotar\n",
        "\n",
        "import datetime\n",
        "\n",
        "def plotGraph(X, y, XReal, yReal, algorithm):\n",
        "    df = pd.DataFrame(\n",
        "    {'dates': X, 'infected': y.astype(int)})\n",
        "    df['dates'] = pd.to_datetime(df['dates'])\n",
        "\n",
        "    fig = plt.figure()\n",
        "    ax = plt.axes()\n",
        "    redLine = plt.plot(XReal, yReal, 'r:', label='Casos Confirmados até 31-07-2020)\n",
        "    df.set_index('dates')['infected'].plot(legend=True, grid=True, label='Predição de Casos')\n",
        "    plt.title(\"COVID-19 no Ceará (\"+algorithm+\")\")\n",
        "    plt.xlabel(\"Datas\")\n",
        "    plt.ylabel(\"Numeros de casos\")\n",
        "    \n",
        "    blue_patch = mpatches.Patch(color='blue', label='Predição de Casos')\n",
        "    red_patch = mpatches.Patch(color='red', label='Casos Confirmados até 31-07-2020')\n",
        "    plt.legend(handles=[red_patch, blue_patch])\n",
        "\n",
        "\n",
        "dates = xdata\n",
        "infected = ydata\n",
        "\n",
        "\n",
        "\n",
        "dfForPlot = pd.DataFrame({'date': dates, 'infected': infected})\n",
        "dfForPlot['date'] = pd.to_datetime(dfForPlot['date'])\n",
        "dfForPlot.tail(10)\n",
        "\n",
        "\n",
        "\n",
        "# Definindo periodo para simulação\n",
        "\n",
        "diasASimular = 30\n",
        "dfForPlotDaysWithInfected = dfForPlot[dfForPlot['infected'] != 0]\n",
        "dfForPlotDaysWithInfectedZ= dfForPlot[dfForPlot['deaths'] != 0]\n",
        "\n",
        "XTrain = np.arange(0, len(dfForPlotDaysWithInfected['date']))\n",
        "yTrain = dfForPlotDaysWithInfected['infected']\n",
        "\n",
        "XPredict = np.arange(0, len(XTrain) + diasASimular)\n",
        "\n",
        "XRealCases = dfForPlotDaysWithInfected['date']\n",
        "yRealCases = dfForPlotDaysWithInfected['infected']\n",
        "\n",
        "predictedDays = pd.date_range(dfForPlotDaysWithInfected['date'].iloc[-1] + datetime.timedelta(days=1), periods=diasASimular, freq='D')\n",
        "X = np.append(dfForPlotDaysWithInfected['date'], predictedDays)"
      ],
      "execution_count": null,
      "outputs": []
    },
    {
      "cell_type": "markdown",
      "metadata": {
        "id": "NjSxSbqeUxh0",
        "colab_type": "text"
      },
      "source": [
        "## Regressão linear"
      ]
    },
    {
      "cell_type": "code",
      "metadata": {
        "id": "crp1UIx8U0TG",
        "colab_type": "code",
        "colab": {}
      },
      "source": [
        "#treino\n",
        "from sklearn.linear_model import LinearRegression\n",
        "LRModel = LinearRegression()\n",
        "LRModel.fit(XTrain.reshape(-1, 1), yTrain)\n",
        "\n",
        "#predição\n",
        "y = LRModel.predict(XPredict.reshape(-1, 1)).astype(int)\n",
        "y = y + y[0] * -1\n",
        "y"
      ],
      "execution_count": null,
      "outputs": []
    },
    {
      "cell_type": "code",
      "metadata": {
        "id": "cHxmsXuoVCN1",
        "colab_type": "code",
        "colab": {}
      },
      "source": [
        "plotGraph(X, y, XRealCases, yRealCases, \"Regressão Linear\")"
      ],
      "execution_count": null,
      "outputs": []
    },
    {
      "cell_type": "markdown",
      "metadata": {
        "id": "F8qGV-BqVIY0",
        "colab_type": "text"
      },
      "source": [
        "## Regressão Polinomial grau 2"
      ]
    },
    {
      "cell_type": "code",
      "metadata": {
        "id": "B9_HguwJVMuY",
        "colab_type": "code",
        "colab": {}
      },
      "source": [
        "#treino\n",
        "from sklearn.preprocessing import PolynomialFeatures\n",
        "polynomialFeatures = PolynomialFeatures(degree = 2)\n",
        "XPoly = polynomialFeatures.fit_transform(XTrain.reshape(-1, 1))\n",
        "\n",
        "from sklearn.linear_model import LinearRegression\n",
        "polyLinearRegression = LinearRegression()\n",
        "polyLinearRegression.fit(XPoly, yTrain)\n",
        "\n",
        "#predição\n",
        "XPoly = polynomialFeatures.fit_transform(XPredict.reshape(-1, 1))\n",
        "y = polyLinearRegression.predict(XPoly).astype(int)\n",
        "miny = min(y)\n",
        "y = y + miny * -1"
      ],
      "execution_count": null,
      "outputs": []
    },
    {
      "cell_type": "code",
      "metadata": {
        "id": "4WmaHtGPVUpb",
        "colab_type": "code",
        "colab": {}
      },
      "source": [
        "plotGraph(X, y, XRealCases, yRealCases, \"Regressão Polinomial de grau 2\")"
      ],
      "execution_count": null,
      "outputs": []
    },
    {
      "cell_type": "markdown",
      "metadata": {
        "id": "bsEw9G51Vd4y",
        "colab_type": "text"
      },
      "source": [
        "## Regressão Polinomial grau 3"
      ]
    },
    {
      "cell_type": "code",
      "metadata": {
        "id": "5IcypqwxVkA0",
        "colab_type": "code",
        "colab": {}
      },
      "source": [
        "#treino\n",
        "from sklearn.preprocessing import PolynomialFeatures\n",
        "polynomialFeatures = PolynomialFeatures(degree = 3)\n",
        "XPoly = polynomialFeatures.fit_transform(XTrain.reshape(-1, 1))\n",
        "\n",
        "from sklearn.linear_model import LinearRegression\n",
        "polyLinearRegression = LinearRegression()\n",
        "polyLinearRegression.fit(XPoly, yTrain)\n",
        "\n",
        "#predição\n",
        "XPoly = polynomialFeatures.fit_transform(XPredict.reshape(-1, 1))\n",
        "y = polyLinearRegression.predict(XPoly).astype(int)\n",
        "miny = min(y)\n",
        "y = y + miny * -1"
      ],
      "execution_count": null,
      "outputs": []
    },
    {
      "cell_type": "code",
      "metadata": {
        "id": "HQ-eN9gTVoxK",
        "colab_type": "code",
        "colab": {}
      },
      "source": [
        "plotGraph(X, y, XRealCases, yRealCases, \"Regressão Polinomial de grau 3\")"
      ],
      "execution_count": null,
      "outputs": []
    },
    {
      "cell_type": "markdown",
      "metadata": {
        "id": "JdQ0rUwMV4vq",
        "colab_type": "text"
      },
      "source": [
        "## Regressão Polinomial grau 4"
      ]
    },
    {
      "cell_type": "code",
      "metadata": {
        "id": "kEnMn64LWEfc",
        "colab_type": "code",
        "colab": {}
      },
      "source": [
        "#treino\n",
        "from sklearn.preprocessing import PolynomialFeatures\n",
        "polynomialFeatures = PolynomialFeatures(degree = 4)\n",
        "XPoly = polynomialFeatures.fit_transform(XTrain.reshape(-1, 1))\n",
        "\n",
        "from sklearn.linear_model import LinearRegression\n",
        "polyLinearRegression = LinearRegression()\n",
        "polyLinearRegression.fit(XPoly, yTrain)\n",
        "\n",
        "#predição\n",
        "XPoly = polynomialFeatures.fit_transform(XPredict.reshape(-1, 1))\n",
        "y = polyLinearRegression.predict(XPoly).astype(int)\n",
        "miny = min(y)\n",
        "y = y + miny * -1"
      ],
      "execution_count": null,
      "outputs": []
    },
    {
      "cell_type": "code",
      "metadata": {
        "id": "NkORSCktWHvu",
        "colab_type": "code",
        "colab": {}
      },
      "source": [
        "plotGraph(X, y, XRealCases, yRealCases, \"Regressão Polinomial de grau 4\")"
      ],
      "execution_count": null,
      "outputs": []
    },
    {
      "cell_type": "markdown",
      "metadata": {
        "id": "kysLgxEGWO08",
        "colab_type": "text"
      },
      "source": [
        "## Logistic and Exponential Curve"
      ]
    },
    {
      "cell_type": "code",
      "metadata": {
        "id": "DnWv2N0LWQDj",
        "colab_type": "code",
        "colab": {}
      },
      "source": [
        "def logistic_model(x, a, b, c):\n",
        "    return c / (1 + np.exp(-(x - b) / a))"
      ],
      "execution_count": null,
      "outputs": []
    },
    {
      "cell_type": "code",
      "metadata": {
        "id": "XfdJ-2ntWZuX",
        "colab_type": "code",
        "colab": {}
      },
      "source": [
        "def exponential_model(x, a, b, c):\n",
        "    return a*np.exp(b*(x-c+10))"
      ],
      "execution_count": null,
      "outputs": []
    },
    {
      "cell_type": "code",
      "metadata": {
        "id": "CxFo7JNwWmb1",
        "colab_type": "code",
        "colab": {}
      },
      "source": [
        "###tem que arrumar essa base de dados\n",
        "\n",
        "import datetime\n",
        "\n",
        "dfForPlotBrazil = dfForPlot\n",
        "dfForPlotBrazil = dfForPlotBrazil[dfForPlotBrazil['infected'] > 0]\n",
        "date_first_infection = dfForPlotBrazil['date'].iloc[0]\n",
        "\n",
        "dfForPlotBrazil.loc[:,'date'] = dfForPlotBrazil['date'].map(lambda x: (x - date_first_infection).days)\n",
        "dfForPlotBrazil"
      ],
      "execution_count": null,
      "outputs": []
    },
    {
      "cell_type": "code",
      "metadata": {
        "id": "1IAuZPGTWx_S",
        "colab_type": "code",
        "colab": {}
      },
      "source": [
        "from scipy.optimize import curve_fit\n",
        "from scipy.optimize import fsolve\n",
        "\n",
        "x = list(dfForPlotBrazil.iloc[:, 0])\n",
        "y = list(dfForPlotBrazil.iloc[:, 1])\n",
        "fit = curve_fit(logistic_model, x, y, maxfev=100000)\n",
        "\n",
        "sol = int(fsolve(lambda x: logistic_model(x, fit[0][0], fit[0][1], fit[0][2]) - int(fit[0][2]), fit[0][1]))\n",
        "end = date_first_infection + datetime.timedelta(days=sol)\n",
        "\n",
        "pred_x = list(range(max(x), sol))\n",
        "y_l=[logistic_model(i, fit[0][0], fit[0][1], fit[0][2]) for i in x+pred_x]\n",
        "plt.scatter(list(dfForPlotBrazil.iloc[:, 0]), list(dfForPlotBrazil.iloc[:, 1]), label=\"Real data\", color=\"red\")\n",
        "plt.plot(x+pred_x, y_l, label=\"Logistic model\")\n",
        "\n",
        "peakday = date_first_infection + datetime.timedelta(days=fit[0][1])\n",
        "print(\"Infection speed     = %.3f\" % fit[0][0])\n",
        "print(\"Total infected      = %.0f\" % fit[0][2])\n",
        "print(\"40 dias = \", date_first_infection + datetime.timedelta(days=40))"
      ],
      "execution_count": null,
      "outputs": []
    },
    {
      "cell_type": "code",
      "metadata": {
        "id": "ywwEIb5tW4Hr",
        "colab_type": "code",
        "colab": {}
      },
      "source": [
        "x = list(dfForPlotBrazil.iloc[:, 0])\n",
        "y = list(dfForPlotBrazil.iloc[:, 1])\n",
        "fit = curve_fit(exponential_model, x, y)\n",
        "\n",
        "y_e = [exponential_model(i, fit[0][0], fit[0][1], fit[0][2]) for i in x+pred_x]\n",
        "plt.scatter(list(dfForPlotBrazil.iloc[:, 0]), list(dfForPlotBrazil.iloc[:, 1]), label=\"Real data\", color=\"red\")\n",
        "plt.plot(x+pred_x, y_e, label=\"Exponential model\")"
      ],
      "execution_count": null,
      "outputs": []
    },
    {
      "cell_type": "code",
      "metadata": {
        "id": "ImmYDQX6XHj2",
        "colab_type": "code",
        "colab": {}
      },
      "source": [
        ""
      ],
      "execution_count": null,
      "outputs": []
    }
  ]
}