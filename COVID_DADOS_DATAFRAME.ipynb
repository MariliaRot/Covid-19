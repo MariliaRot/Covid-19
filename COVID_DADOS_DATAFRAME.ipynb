{
  "nbformat": 4,
  "nbformat_minor": 0,
  "metadata": {
    "colab": {
      "name": "COVID-DADOS-DATAFRAME.ipynb",
      "provenance": [],
      "authorship_tag": "ABX9TyMHLtM0Ty4TKKEwtpEy11/f",
      "include_colab_link": true
    },
    "kernelspec": {
      "name": "python3",
      "display_name": "Python 3"
    }
  },
  "cells": [
    {
      "cell_type": "markdown",
      "metadata": {
        "id": "view-in-github",
        "colab_type": "text"
      },
      "source": [
        "<a href=\"https://colab.research.google.com/github/MariliaRot/Covid-19/blob/master/COVID_DADOS_DATAFRAME.ipynb\" target=\"_parent\"><img src=\"https://colab.research.google.com/assets/colab-badge.svg\" alt=\"Open In Colab\"/></a>"
      ]
    },
    {
      "cell_type": "markdown",
      "metadata": {
        "id": "3tQBThpStdY4",
        "colab_type": "text"
      },
      "source": [
        "##Importando bibliotecas"
      ]
    },
    {
      "cell_type": "code",
      "metadata": {
        "id": "Om_3Hci-tXwc",
        "colab_type": "code",
        "colab": {
          "base_uri": "https://localhost:8080/",
          "height": 34
        },
        "outputId": "f948380c-7c28-4b47-b5d3-521c576aaee1"
      },
      "source": [
        "#Manipulando dataframe\n",
        "import pandas as pd\n",
        "import numpy as np\n",
        "import io\n",
        "from googleapiclient.http import MediaIoBaseDownload\n",
        "import urllib.request\n",
        "%matplotlib inline\n",
        "import matplotlib.pyplot as plt\n",
        "import matplotlib.patches as mpatches\n",
        "plt.style.use('seaborn-whitegrid')\n",
        "import ssl\n",
        "\n",
        "\n",
        "ssl._create_default_https_context = ssl._create_unverified_context\n",
        "\n",
        "urlDADOS = 'https://drive.google.com/drive/folders/1wvVi_2aUJ5lg7HoVjGb0my15CwFpNsoX?usp=sharing'\n",
        "\n",
        "#fonte dos dados: https://github.com/integrasus/api-covid-ce\n",
        "#dicionarios dos dados: https://github.com/integrasus/api-covid-ce\n",
        "\n",
        "\n",
        "#dados_covid_bruto= pd.read_csv(\"/content/casos_coronavirus.csv\")\n",
        "\n",
        "type(urlDADOS)"
      ],
      "execution_count": null,
      "outputs": [
        {
          "output_type": "execute_result",
          "data": {
            "text/plain": [
              "str"
            ]
          },
          "metadata": {
            "tags": []
          },
          "execution_count": 1
        }
      ]
    },
    {
      "cell_type": "code",
      "metadata": {
        "id": "eaDeKzALufXq",
        "colab_type": "code",
        "colab": {}
      },
      "source": [
        ""
      ],
      "execution_count": null,
      "outputs": []
    }
  ]
}