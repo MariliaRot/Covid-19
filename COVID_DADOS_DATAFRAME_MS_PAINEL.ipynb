{
  "nbformat": 4,
  "nbformat_minor": 0,
  "metadata": {
    "colab": {
      "name": "COVID-DADOS-DATAFRAME-MS-PAINEL.ipynb",
      "provenance": [],
      "collapsed_sections": [],
      "toc_visible": true,
      "mount_file_id": "1bPb19zlP_-O-fBS2JLy0CmRD75g0GN3j",
      "authorship_tag": "ABX9TyNJUr9XqLEvIPqJxA/anl1e",
      "include_colab_link": true
    },
    "kernelspec": {
      "name": "python3",
      "display_name": "Python 3"
    }
  },
  "cells": [
    {
      "cell_type": "markdown",
      "metadata": {
        "id": "view-in-github",
        "colab_type": "text"
      },
      "source": [
        "<a href=\"https://colab.research.google.com/github/MariliaRot/Covid-19/blob/master/COVID_DADOS_DATAFRAME_MS_PAINEL.ipynb\" target=\"_parent\"><img src=\"https://colab.research.google.com/assets/colab-badge.svg\" alt=\"Open In Colab\"/></a>"
      ]
    },
    {
      "cell_type": "markdown",
      "metadata": {
        "id": "x8hp2gUnTM0t",
        "colab_type": "text"
      },
      "source": [
        "# Análise exploratoria de dados - COVID19 no Ceará\n",
        "Objetivo = fazer a predição de casos utilizando o modelo SIR (Sucetiveis - Infectados - Recuperados)\n",
        "\n",
        "Fonte dos dados : Painel Corona Virus - Ministerio da Saude (https://covid.saude.gov.br/)"
      ]
    },
    {
      "cell_type": "code",
      "metadata": {
        "id": "hV8rU7EjS08c",
        "colab_type": "code",
        "colab": {
          "base_uri": "https://localhost:8080/",
          "height": 121
        },
        "outputId": "3a32d8c7-e128-43fc-f24a-20f58e806ff8"
      },
      "source": [
        "# Montando o Google Drive para obtenção da base de dados\n",
        "from google.colab import drive\n",
        "drive.mount('/content/drive')"
      ],
      "execution_count": 4,
      "outputs": [
        {
          "output_type": "stream",
          "text": [
            "Go to this URL in a browser: https://accounts.google.com/o/oauth2/auth?client_id=947318989803-6bn6qk8qdgf4n4g3pfee6491hc0brc4i.apps.googleusercontent.com&redirect_uri=urn%3aietf%3awg%3aoauth%3a2.0%3aoob&scope=email%20https%3a%2f%2fwww.googleapis.com%2fauth%2fdocs.test%20https%3a%2f%2fwww.googleapis.com%2fauth%2fdrive%20https%3a%2f%2fwww.googleapis.com%2fauth%2fdrive.photos.readonly%20https%3a%2f%2fwww.googleapis.com%2fauth%2fpeopleapi.readonly&response_type=code\n",
            "\n",
            "Enter your authorization code:\n",
            "··········\n",
            "Mounted at /content/drive\n"
          ],
          "name": "stdout"
        }
      ]
    },
    {
      "cell_type": "markdown",
      "metadata": {
        "id": "pIq-NHPlTG_a",
        "colab_type": "text"
      },
      "source": [
        "import "
      ]
    },
    {
      "cell_type": "code",
      "metadata": {
        "id": "rBNaPutUWBW7",
        "colab_type": "code",
        "colab": {}
      },
      "source": [
        "#IMPORTANDO BIBLIOTECAS\n",
        "import pandas as pd\n",
        "import numpy as np\n",
        "import matplotlib.pyplot as plt\n",
        "from datetime import datetime, timedelta, date\n",
        "from scipy.integrate import odeint\n",
        "from scipy.optimize import minimize\n",
        "from scipy import linalg, optimize"
      ],
      "execution_count": 50,
      "outputs": []
    },
    {
      "cell_type": "code",
      "metadata": {
        "id": "a62A9kYcS7DA",
        "colab_type": "code",
        "colab": {
          "base_uri": "https://localhost:8080/",
          "height": 70
        },
        "outputId": "572ffbd1-b830-4ae9-e00d-6b0de293edad"
      },
      "source": [
        "# IMportando o arquivo CSV do GoogleDrive\n",
        "caminho_dados_br_originais = '/content/drive/My Drive/Colab Notebooks/PAINEL_MINISTERIO_DA_SAUDE-BR/HIST-COVIDBR-26082020.csv'\n",
        "caminho_dados_limpos_julho = '/content/drive/My Drive/Colab Notebooks/PAINEL_MINISTERIO_DA_SAUDE-BR/dadosCE-31-07-2020.csv'\n",
        "caminho_dados_limpos_agosto = '/content/drive/My Drive/Colab Notebooks/PAINEL_MINISTERIO_DA_SAUDE-BR/dadosCE-26-08-2020.csv'\n",
        "\n",
        "dadosBRbruto = pd.read_csv(caminho_dados_br)\n",
        "dadosJulho = pd.read_csv(caminho_dados_limpos_julho)\n",
        "dadosAgosto= pd.read_csv(caminho_dados_limpos_agosto)"
      ],
      "execution_count": 19,
      "outputs": [
        {
          "output_type": "stream",
          "text": [
            "/usr/local/lib/python3.6/dist-packages/IPython/core/interactiveshell.py:2718: DtypeWarning: Columns (10) have mixed types.Specify dtype option on import or set low_memory=False.\n",
            "  interactivity=interactivity, compiler=compiler, result=result)\n"
          ],
          "name": "stderr"
        }
      ]
    },
    {
      "cell_type": "code",
      "metadata": {
        "id": "czbBiZBhUN1s",
        "colab_type": "code",
        "colab": {
          "base_uri": "https://localhost:8080/",
          "height": 437
        },
        "outputId": "d3560039-a014-43fb-8012-80b63b288259"
      },
      "source": [
        "#apresentando as informações dos dados originais\n",
        "dadosBRbruto.info()"
      ],
      "execution_count": 7,
      "outputs": [
        {
          "output_type": "stream",
          "text": [
            "<class 'pandas.core.frame.DataFrame'>\n",
            "RangeIndex: 858433 entries, 0 to 858432\n",
            "Data columns (total 18 columns):\n",
            " #   Column                  Non-Null Count   Dtype  \n",
            "---  ------                  --------------   -----  \n",
            " 0   Unnamed: 0              858433 non-null  int64  \n",
            " 1   regiao                  858433 non-null  object \n",
            " 2   estado                  858249 non-null  object \n",
            " 3   municipio               850068 non-null  object \n",
            " 4   coduf                   858433 non-null  int64  \n",
            " 5   codmun                  853281 non-null  float64\n",
            " 6   codRegiaoSaude          850068 non-null  float64\n",
            " 7   nomeRegiaoSaude         850068 non-null  object \n",
            " 8   data                    858433 non-null  object \n",
            " 9   semanaEpi               858433 non-null  int64  \n",
            " 10  populacaoTCU2019        855220 non-null  object \n",
            " 11  casosAcumulado          858433 non-null  int64  \n",
            " 12  casosNovos              858433 non-null  int64  \n",
            " 13  obitosAcumulado         858433 non-null  int64  \n",
            " 14  obitosNovos             858433 non-null  int64  \n",
            " 15  Recuperadosnovos        130 non-null     float64\n",
            " 16  emAcompanhamentoNovos   130 non-null     float64\n",
            " 17  interior/metropolitana  850068 non-null  float64\n",
            "dtypes: float64(5), int64(7), object(6)\n",
            "memory usage: 117.9+ MB\n"
          ],
          "name": "stdout"
        }
      ]
    },
    {
      "cell_type": "code",
      "metadata": {
        "id": "-yn29xQeL1BZ",
        "colab_type": "code",
        "colab": {
          "base_uri": "https://localhost:8080/",
          "height": 269
        },
        "outputId": "e8601d01-b0e2-4941-b79f-6dcd45a34c3c"
      },
      "source": [
        "#apresentando as informações dos dados reduzidos\n",
        "# Foram selecionadasretirados dos dados originais apenas as colunas: \n",
        "# ['estado','data','semanaEpi','casosAcumulado','casosNovos','obitosAcumulado','obitosNovos']\n",
        "# e exclusivamente as que tinha CE como valor na coluna 'estado'\n",
        "dadosJulho.info()"
      ],
      "execution_count": 26,
      "outputs": [
        {
          "output_type": "stream",
          "text": [
            "<class 'pandas.core.frame.DataFrame'>\n",
            "RangeIndex: 137 entries, 0 to 136\n",
            "Data columns (total 8 columns):\n",
            " #   Column           Non-Null Count  Dtype  \n",
            "---  ------           --------------  -----  \n",
            " 0   Unnamed: 0       137 non-null    int64  \n",
            " 1   estado           137 non-null    object \n",
            " 2   data             137 non-null    object \n",
            " 3   semanaEpi        137 non-null    float64\n",
            " 4   casosAcumulado   137 non-null    float64\n",
            " 5   casosNovos       137 non-null    float64\n",
            " 6   obitosAcumulado  137 non-null    float64\n",
            " 7   obitosNovos      137 non-null    float64\n",
            "dtypes: float64(5), int64(1), object(2)\n",
            "memory usage: 8.7+ KB\n"
          ],
          "name": "stdout"
        }
      ]
    },
    {
      "cell_type": "code",
      "metadata": {
        "id": "EgG7qNYdNHX9",
        "colab_type": "code",
        "colab": {
          "base_uri": "https://localhost:8080/",
          "height": 284
        },
        "outputId": "645f3536-39f3-4833-bd02-09ea5595b586"
      },
      "source": [
        "dadosJulho.describe()\n",
        "# até 31 de julho de 2020 tinhamos 173882 casos acumulados e 7668 óbitos"
      ],
      "execution_count": 27,
      "outputs": [
        {
          "output_type": "execute_result",
          "data": {
            "text/html": [
              "<div>\n",
              "<style scoped>\n",
              "    .dataframe tbody tr th:only-of-type {\n",
              "        vertical-align: middle;\n",
              "    }\n",
              "\n",
              "    .dataframe tbody tr th {\n",
              "        vertical-align: top;\n",
              "    }\n",
              "\n",
              "    .dataframe thead th {\n",
              "        text-align: right;\n",
              "    }\n",
              "</style>\n",
              "<table border=\"1\" class=\"dataframe\">\n",
              "  <thead>\n",
              "    <tr style=\"text-align: right;\">\n",
              "      <th></th>\n",
              "      <th>Unnamed: 0</th>\n",
              "      <th>semanaEpi</th>\n",
              "      <th>casosAcumulado</th>\n",
              "      <th>casosNovos</th>\n",
              "      <th>obitosAcumulado</th>\n",
              "      <th>obitosNovos</th>\n",
              "    </tr>\n",
              "  </thead>\n",
              "  <tbody>\n",
              "    <tr>\n",
              "      <th>count</th>\n",
              "      <td>137.000000</td>\n",
              "      <td>137.000000</td>\n",
              "      <td>137.000000</td>\n",
              "      <td>137.000000</td>\n",
              "      <td>137.000000</td>\n",
              "      <td>137.000000</td>\n",
              "    </tr>\n",
              "    <tr>\n",
              "      <th>mean</th>\n",
              "      <td>69.000000</td>\n",
              "      <td>21.569343</td>\n",
              "      <td>56584.817518</td>\n",
              "      <td>1269.211679</td>\n",
              "      <td>3088.744526</td>\n",
              "      <td>55.970803</td>\n",
              "    </tr>\n",
              "    <tr>\n",
              "      <th>std</th>\n",
              "      <td>39.692569</td>\n",
              "      <td>5.677349</td>\n",
              "      <td>56791.493875</td>\n",
              "      <td>1287.667325</td>\n",
              "      <td>2834.182443</td>\n",
              "      <td>55.427475</td>\n",
              "    </tr>\n",
              "    <tr>\n",
              "      <th>min</th>\n",
              "      <td>1.000000</td>\n",
              "      <td>12.000000</td>\n",
              "      <td>5.000000</td>\n",
              "      <td>4.000000</td>\n",
              "      <td>0.000000</td>\n",
              "      <td>0.000000</td>\n",
              "    </tr>\n",
              "    <tr>\n",
              "      <th>25%</th>\n",
              "      <td>35.000000</td>\n",
              "      <td>17.000000</td>\n",
              "      <td>3482.000000</td>\n",
              "      <td>229.000000</td>\n",
              "      <td>198.000000</td>\n",
              "      <td>12.000000</td>\n",
              "    </tr>\n",
              "    <tr>\n",
              "      <th>50%</th>\n",
              "      <td>69.000000</td>\n",
              "      <td>22.000000</td>\n",
              "      <td>35595.000000</td>\n",
              "      <td>744.000000</td>\n",
              "      <td>2324.000000</td>\n",
              "      <td>41.000000</td>\n",
              "    </tr>\n",
              "    <tr>\n",
              "      <th>75%</th>\n",
              "      <td>103.000000</td>\n",
              "      <td>26.000000</td>\n",
              "      <td>106628.000000</td>\n",
              "      <td>2296.000000</td>\n",
              "      <td>5981.000000</td>\n",
              "      <td>83.000000</td>\n",
              "    </tr>\n",
              "    <tr>\n",
              "      <th>max</th>\n",
              "      <td>137.000000</td>\n",
              "      <td>31.000000</td>\n",
              "      <td>173882.000000</td>\n",
              "      <td>8111.000000</td>\n",
              "      <td>7668.000000</td>\n",
              "      <td>261.000000</td>\n",
              "    </tr>\n",
              "  </tbody>\n",
              "</table>\n",
              "</div>"
            ],
            "text/plain": [
              "       Unnamed: 0   semanaEpi  ...  obitosAcumulado  obitosNovos\n",
              "count  137.000000  137.000000  ...       137.000000   137.000000\n",
              "mean    69.000000   21.569343  ...      3088.744526    55.970803\n",
              "std     39.692569    5.677349  ...      2834.182443    55.427475\n",
              "min      1.000000   12.000000  ...         0.000000     0.000000\n",
              "25%     35.000000   17.000000  ...       198.000000    12.000000\n",
              "50%     69.000000   22.000000  ...      2324.000000    41.000000\n",
              "75%    103.000000   26.000000  ...      5981.000000    83.000000\n",
              "max    137.000000   31.000000  ...      7668.000000   261.000000\n",
              "\n",
              "[8 rows x 6 columns]"
            ]
          },
          "metadata": {
            "tags": []
          },
          "execution_count": 27
        }
      ]
    },
    {
      "cell_type": "code",
      "metadata": {
        "id": "G4xeI7e1ZBZ4",
        "colab_type": "code",
        "colab": {
          "base_uri": "https://localhost:8080/",
          "height": 876
        },
        "outputId": "55806f6d-8d81-444e-a62e-016126f63c1c"
      },
      "source": [
        "## Quantidade de casos por ESTADO - dados brutos - 26-08-2020\n",
        "dadosBRbruto.filter(items=['estado','casosAcumulado','obitosAcumulado'])\\\n",
        ".groupby('estado').max().sort_values(by='casosAcumulado', ascending= False)"
      ],
      "execution_count": 41,
      "outputs": [
        {
          "output_type": "execute_result",
          "data": {
            "text/html": [
              "<div>\n",
              "<style scoped>\n",
              "    .dataframe tbody tr th:only-of-type {\n",
              "        vertical-align: middle;\n",
              "    }\n",
              "\n",
              "    .dataframe tbody tr th {\n",
              "        vertical-align: top;\n",
              "    }\n",
              "\n",
              "    .dataframe thead th {\n",
              "        text-align: right;\n",
              "    }\n",
              "</style>\n",
              "<table border=\"1\" class=\"dataframe\">\n",
              "  <thead>\n",
              "    <tr style=\"text-align: right;\">\n",
              "      <th></th>\n",
              "      <th>casosAcumulado</th>\n",
              "      <th>obitosAcumulado</th>\n",
              "    </tr>\n",
              "    <tr>\n",
              "      <th>estado</th>\n",
              "      <th></th>\n",
              "      <th></th>\n",
              "    </tr>\n",
              "  </thead>\n",
              "  <tbody>\n",
              "    <tr>\n",
              "      <th>SP</th>\n",
              "      <td>776135</td>\n",
              "      <td>29194</td>\n",
              "    </tr>\n",
              "    <tr>\n",
              "      <th>BA</th>\n",
              "      <td>245021</td>\n",
              "      <td>5116</td>\n",
              "    </tr>\n",
              "    <tr>\n",
              "      <th>RJ</th>\n",
              "      <td>216675</td>\n",
              "      <td>15700</td>\n",
              "    </tr>\n",
              "    <tr>\n",
              "      <th>CE</th>\n",
              "      <td>208782</td>\n",
              "      <td>8351</td>\n",
              "    </tr>\n",
              "    <tr>\n",
              "      <th>MG</th>\n",
              "      <td>201973</td>\n",
              "      <td>4948</td>\n",
              "    </tr>\n",
              "    <tr>\n",
              "      <th>PA</th>\n",
              "      <td>193564</td>\n",
              "      <td>6097</td>\n",
              "    </tr>\n",
              "    <tr>\n",
              "      <th>DF</th>\n",
              "      <td>155253</td>\n",
              "      <td>2399</td>\n",
              "    </tr>\n",
              "    <tr>\n",
              "      <th>MA</th>\n",
              "      <td>147676</td>\n",
              "      <td>3390</td>\n",
              "    </tr>\n",
              "    <tr>\n",
              "      <th>SC</th>\n",
              "      <td>137560</td>\n",
              "      <td>2142</td>\n",
              "    </tr>\n",
              "    <tr>\n",
              "      <th>GO</th>\n",
              "      <td>124593</td>\n",
              "      <td>2888</td>\n",
              "    </tr>\n",
              "    <tr>\n",
              "      <th>PR</th>\n",
              "      <td>122241</td>\n",
              "      <td>3102</td>\n",
              "    </tr>\n",
              "    <tr>\n",
              "      <th>PE</th>\n",
              "      <td>121078</td>\n",
              "      <td>7460</td>\n",
              "    </tr>\n",
              "    <tr>\n",
              "      <th>AM</th>\n",
              "      <td>117412</td>\n",
              "      <td>3600</td>\n",
              "    </tr>\n",
              "    <tr>\n",
              "      <th>RS</th>\n",
              "      <td>115984</td>\n",
              "      <td>3235</td>\n",
              "    </tr>\n",
              "    <tr>\n",
              "      <th>ES</th>\n",
              "      <td>107909</td>\n",
              "      <td>3086</td>\n",
              "    </tr>\n",
              "    <tr>\n",
              "      <th>PB</th>\n",
              "      <td>103213</td>\n",
              "      <td>2371</td>\n",
              "    </tr>\n",
              "    <tr>\n",
              "      <th>MT</th>\n",
              "      <td>85709</td>\n",
              "      <td>2611</td>\n",
              "    </tr>\n",
              "    <tr>\n",
              "      <th>AL</th>\n",
              "      <td>77317</td>\n",
              "      <td>1844</td>\n",
              "    </tr>\n",
              "    <tr>\n",
              "      <th>PI</th>\n",
              "      <td>74096</td>\n",
              "      <td>1754</td>\n",
              "    </tr>\n",
              "    <tr>\n",
              "      <th>SE</th>\n",
              "      <td>71222</td>\n",
              "      <td>1822</td>\n",
              "    </tr>\n",
              "    <tr>\n",
              "      <th>RN</th>\n",
              "      <td>60442</td>\n",
              "      <td>2215</td>\n",
              "    </tr>\n",
              "    <tr>\n",
              "      <th>RO</th>\n",
              "      <td>53119</td>\n",
              "      <td>1100</td>\n",
              "    </tr>\n",
              "    <tr>\n",
              "      <th>TO</th>\n",
              "      <td>46364</td>\n",
              "      <td>621</td>\n",
              "    </tr>\n",
              "    <tr>\n",
              "      <th>MS</th>\n",
              "      <td>45359</td>\n",
              "      <td>783</td>\n",
              "    </tr>\n",
              "    <tr>\n",
              "      <th>RR</th>\n",
              "      <td>42359</td>\n",
              "      <td>582</td>\n",
              "    </tr>\n",
              "    <tr>\n",
              "      <th>AP</th>\n",
              "      <td>41981</td>\n",
              "      <td>647</td>\n",
              "    </tr>\n",
              "    <tr>\n",
              "      <th>AC</th>\n",
              "      <td>24119</td>\n",
              "      <td>607</td>\n",
              "    </tr>\n",
              "  </tbody>\n",
              "</table>\n",
              "</div>"
            ],
            "text/plain": [
              "        casosAcumulado  obitosAcumulado\n",
              "estado                                 \n",
              "SP              776135            29194\n",
              "BA              245021             5116\n",
              "RJ              216675            15700\n",
              "CE              208782             8351\n",
              "MG              201973             4948\n",
              "PA              193564             6097\n",
              "DF              155253             2399\n",
              "MA              147676             3390\n",
              "SC              137560             2142\n",
              "GO              124593             2888\n",
              "PR              122241             3102\n",
              "PE              121078             7460\n",
              "AM              117412             3600\n",
              "RS              115984             3235\n",
              "ES              107909             3086\n",
              "PB              103213             2371\n",
              "MT               85709             2611\n",
              "AL               77317             1844\n",
              "PI               74096             1754\n",
              "SE               71222             1822\n",
              "RN               60442             2215\n",
              "RO               53119             1100\n",
              "TO               46364              621\n",
              "MS               45359              783\n",
              "RR               42359              582\n",
              "AP               41981              647\n",
              "AC               24119              607"
            ]
          },
          "metadata": {
            "tags": []
          },
          "execution_count": 41
        }
      ]
    },
    {
      "cell_type": "code",
      "metadata": {
        "id": "01owVbxj2vmG",
        "colab_type": "code",
        "colab": {
          "base_uri": "https://localhost:8080/",
          "height": 282
        },
        "outputId": "ebbe6b24-5f97-464f-c316-3d317713a330"
      },
      "source": [
        "casosAcumData= dadosBRbruto.where(dadosBRbruto.estado =='CE')\n",
        "#casosAcumData\n",
        "\n",
        "dadosJulho.plot()"
      ],
      "execution_count": 20,
      "outputs": [
        {
          "output_type": "execute_result",
          "data": {
            "text/plain": [
              "<matplotlib.axes._subplots.AxesSubplot at 0x7f0b54672a58>"
            ]
          },
          "metadata": {
            "tags": []
          },
          "execution_count": 20
        },
        {
          "output_type": "display_data",
          "data": {
            "image/png": "[encoded data removed]",
            "text/plain": [
              "<Figure size 432x288 with 1 Axes>"
            ]
          },
          "metadata": {
            "tags": [],
            "needs_background": "light"
          }
        }
      ]
    },
    {
      "cell_type": "markdown",
      "metadata": {
        "id": "bTB_TPjKFhS_",
        "colab_type": "text"
      },
      "source": [
        ""
      ]
    },
    {
      "cell_type": "code",
      "metadata": {
        "id": "YN8bgppVCZnk",
        "colab_type": "code",
        "colab": {}
      },
      "source": [
        "casosAcumData.to_csv(\"dadosCE.csv\")"
      ],
      "execution_count": 18,
      "outputs": []
    },
    {
      "cell_type": "code",
      "metadata": {
        "id": "0iLSeJWDaRWK",
        "colab_type": "code",
        "colab": {
          "base_uri": "https://localhost:8080/",
          "height": 312
        },
        "outputId": "6772f694-3ba0-4a83-c6ee-1e764517b5df"
      },
      "source": [
        "# Plotando os dados do Ceara ate 31-07-2020\n",
        "fig = plt.figure()\n",
        "ax = plt.axes()\n",
        "dadosJulho.set_index('data')['casosAcumulado'].plot(legend=True, grid=True, label='Casos confirmados');\n",
        "dadosJulho.set_index('data')['obitosAcumulado'].plot(legend=True, grid=True, label='Óbitos');\n",
        "plt.title(\"COVID-19 no Ceará\")\n",
        "plt.xlabel(\"Datas\")\n",
        "plt.ylabel(\"Numeros de casos\")"
      ],
      "execution_count": 59,
      "outputs": [
        {
          "output_type": "execute_result",
          "data": {
            "text/plain": [
              "Text(0, 0.5, 'Numeros de casos')"
            ]
          },
          "metadata": {
            "tags": []
          },
          "execution_count": 59
        },
        {
          "output_type": "display_data",
          "data": {
            "image/png": "[encoded data removed]",
            "text/plain": [
              "<Figure size 432x288 with 1 Axes>"
            ]
          },
          "metadata": {
            "tags": [],
            "needs_background": "light"
          }
        }
      ]
    },
    {
      "cell_type": "code",
      "metadata": {
        "id": "ESXlLDxaozeM",
        "colab_type": "code",
        "colab": {}
      },
      "source": [
        "#colocando dados casos acumludados e suas datas em listas\n",
        "\n",
        "ydata =dadosJulho['casosAcumulado'].to_numpy()\n",
        "xdata = dadosJulho['data'].to_numpy()\n",
        "mortos = dadosJulho['obitosAcumulado'].to_numpy()"
      ],
      "execution_count": 63,
      "outputs": []
    },
    {
      "cell_type": "code",
      "metadata": {
        "id": "iGr7mkHUq6Nm",
        "colab_type": "code",
        "colab": {
          "base_uri": "https://localhost:8080/",
          "height": 50
        },
        "outputId": "d578eb9c-6877-4a01-cac8-761c63a9b3c8"
      },
      "source": [
        "print(len(ydata))\n",
        "print(len(xdata))"
      ],
      "execution_count": 48,
      "outputs": [
        {
          "output_type": "stream",
          "text": [
            "137\n",
            "137\n"
          ],
          "name": "stdout"
        }
      ]
    },
    {
      "cell_type": "code",
      "metadata": {
        "id": "gHvh9IXuUlvq",
        "colab_type": "code",
        "colab": {}
      },
      "source": [
        "# Total população segundo IBGE 2019, N.\n",
        "N = 9187103 \n",
        "# número inicial de infectados e recuperados\n",
        "I0, R0 = 1, 0\n",
        "# Todo o restante, S0, são sucetiveis a contaminação.\n",
        "S0 = N - I0 - R0\n",
        "# Taxa de contagio, beta, e a media da taxa de recuperação, gamma, por dia.\n",
        "#beta, gamma = 1.0E-3,1.0E-3 \n",
        "\n",
        "t = np.linspace(start = 1, stop = 137, num = 137)\n",
        "\n",
        "print(t)\n",
        "print(ydata.shape[0])\n",
        "print(xdata.shape[0])"
      ],
      "execution_count": null,
      "outputs": []
    },
    {
      "cell_type": "code",
      "metadata": {
        "id": "dErHd60xV3W0",
        "colab_type": "code",
        "colab": {}
      },
      "source": [
        "def deriv(y, t, N, beta, gamma):\n",
        "    S, I, R = y\n",
        "    dSdt = -beta * S * I / N\n",
        "    dIdt = beta * S * I / N - gamma * I\n",
        "    dMdt = gamma * I\n",
        "    return dSdt, dIdt, dMdt\n",
        "\n",
        "def obj(x):\n",
        "  y0 = S0, I0, R0\n",
        "  ret = odeint(deriv, y0, t, args=(N, x[0], x[1]))\n",
        "  S, I, R = ret.T  \n",
        "  return linalg.norm(I-ydata) +linalg.norm(R-mortos)\n",
        "\n",
        "inovo=linalg.norm(I-ydata) +linalg.norm(R-mortos)\n",
        "\n",
        "x0 = np.array([10,10])\n",
        "result = minimize(obj, x0, method='Nelder-Mead', tol=1e-7)\n",
        "print(\"minimizando \",result.fun,result.x)\n",
        "\n",
        "beta = result.x[0]\n",
        "gamma = result.x[1]\n",
        "# Initial conditions vector\n",
        "y0 = S0, I0, R0\n",
        "#time\n",
        "t2 = np.linspace(start = 1, stop = 163, num = 163)\n",
        "ret = odeint(deriv, y0, t, args=(N, beta, gamma))\n",
        "S, I, R = ret.T\n",
        "print(\"Dias utilizados na analise:  \",t)\n",
        "print(\"Dias + projeção:  \",t2)\n",
        "print(\"infectados: \",I.max())\n",
        "print()\n",
        "print(\"RECUPERADOS:  \",R)\n",
        "print(\"mORTOS:  \",mortos)\n",
        "\n",
        "\n",
        "\n",
        "\n",
        "\n",
        "# Plotando os dados em 3 curvas separadas S(t), I(t) e R(t)\n",
        "fig = plt.figure(facecolor='w')\n",
        "ax = fig.add_subplot(111, axisbelow=True)\n",
        "ax.plot(t, S/N, 'r', alpha=0.5, lw=2, label='Susceptible')\n",
        "#ax.plot(t, I, 'r', alpha=0.5, lw=2, label='Infectado')\n",
        "ax.plot(t, R, 'g', alpha=0.5, lw=2, label='Recuperados')\n",
        "ax.plot(t, ydata, 'b', alpha=0.5, lw=2, label='Infectados')\n",
        "ax.plot(t, mortos, 'p', alpha=0.5, lw=2, label='Obitos')\n",
        "ax.set_xlabel('Tempo /dias')\n",
        "ax.set_ylabel('Número de pessoas')\n",
        "#ax.set_ylim(0,1.2)\n",
        "ax.yaxis.set_tick_params(length=0)\n",
        "ax.xaxis.set_tick_params(length=0)\n",
        "ax.grid(b=True, which='major', c='w', lw=2, ls='-')\n",
        "legend = ax.legend()\n",
        "legend.get_frame().set_alpha(0.5)\n",
        "for spine in ('top', 'right', 'bottom', 'left'):\n",
        "    ax.spines[spine].set_visible(False)\n",
        "plt.show()\n"
      ],
      "execution_count": null,
      "outputs": []
    },
    {
      "cell_type": "markdown",
      "metadata": {
        "id": "WQoUMOfJlxzX",
        "colab_type": "text"
      },
      "source": [
        "## Fazendo previsões"
      ]
    },
    {
      "cell_type": "code",
      "metadata": {
        "id": "XYp5oAxPbGal",
        "colab_type": "code",
        "colab": {}
      },
      "source": [
        ""
      ],
      "execution_count": null,
      "outputs": []
    }
  ]
}