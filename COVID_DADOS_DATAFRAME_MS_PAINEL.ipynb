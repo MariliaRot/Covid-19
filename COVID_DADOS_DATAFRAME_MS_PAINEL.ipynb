{
  "nbformat": 4,
  "nbformat_minor": 0,
  "metadata": {
    "colab": {
      "name": "COVID-DADOS-DATAFRAME-MS-PAINEL.ipynb",
      "provenance": [],
      "collapsed_sections": [],
      "authorship_tag": "ABX9TyNf0zomL4EcP/II67sFMcDd",
      "include_colab_link": true
    },
    "kernelspec": {
      "name": "python3",
      "display_name": "Python 3"
    }
  },
  "cells": [
    {
      "cell_type": "markdown",
      "metadata": {
        "id": "view-in-github",
        "colab_type": "text"
      },
      "source": [
        "<a href=\"https://colab.research.google.com/github/MariliaRot/Covid-19/blob/master/COVID_DADOS_DATAFRAME_MS_PAINEL.ipynb\" target=\"_parent\"><img src=\"https://colab.research.google.com/assets/colab-badge.svg\" alt=\"Open In Colab\"/></a>"
      ]
    },
    {
      "cell_type": "markdown",
      "metadata": {
        "id": "x8hp2gUnTM0t",
        "colab_type": "text"
      },
      "source": [
        "# Análise exploratoria de dados - COVID19 no Ceará\n",
        "Objetivo = fazer a predição de casos utilizando o modelo SIR (Sucetiveis - Infectados - Recuperados)\n",
        "\n",
        "Fonte dos dados : Painel Corona Virus - Ministerio da Saude (https://covid.saude.gov.br/)"
      ]
    },
    {
      "cell_type": "code",
      "metadata": {
        "id": "hV8rU7EjS08c",
        "colab_type": "code",
        "colab": {
          "base_uri": "https://localhost:8080/",
          "height": 121
        },
        "outputId": "0f0a006e-8414-4dc6-b8ec-18e00b16ce57"
      },
      "source": [
        "# Montando o Google Drive para obtenção da base de dados\n",
        "from google.colab import drive\n",
        "drive.mount('/content/drive')"
      ],
      "execution_count": 1,
      "outputs": [
        {
          "output_type": "stream",
          "text": [
            "Go to this URL in a browser: https://accounts.google.com/o/oauth2/auth?client_id=947318989803-6bn6qk8qdgf4n4g3pfee6491hc0brc4i.apps.googleusercontent.com&redirect_uri=urn%3aietf%3awg%3aoauth%3a2.0%3aoob&scope=email%20https%3a%2f%2fwww.googleapis.com%2fauth%2fdocs.test%20https%3a%2f%2fwww.googleapis.com%2fauth%2fdrive%20https%3a%2f%2fwww.googleapis.com%2fauth%2fdrive.photos.readonly%20https%3a%2f%2fwww.googleapis.com%2fauth%2fpeopleapi.readonly&response_type=code\n",
            "\n",
            "Enter your authorization code:\n",
            "··········\n",
            "Mounted at /content/drive\n"
          ],
          "name": "stdout"
        }
      ]
    },
    {
      "cell_type": "markdown",
      "metadata": {
        "id": "pIq-NHPlTG_a",
        "colab_type": "text"
      },
      "source": [
        "import "
      ]
    },
    {
      "cell_type": "code",
      "metadata": {
        "id": "a62A9kYcS7DA",
        "colab_type": "code",
        "colab": {
          "base_uri": "https://localhost:8080/",
          "height": 50
        },
        "outputId": "b85431fa-e0b1-4256-fb32-017a33f17f75"
      },
      "source": [
        "import pandas as pd\n",
        "\n",
        "caminho_dados_br = '/content/drive/My Drive/Colab Notebooks/PAINEL_MINISTERIO_DA_SAUDE-BR/HIST-COVIDBR-26082020.csv'\n",
        "\n",
        "dadosBRbruto = pd.read_csv(caminho_dados_br)"
      ],
      "execution_count": 4,
      "outputs": [
        {
          "output_type": "stream",
          "text": [
            "/usr/local/lib/python3.6/dist-packages/IPython/core/interactiveshell.py:2718: DtypeWarning: Columns (10) have mixed types.Specify dtype option on import or set low_memory=False.\n",
            "  interactivity=interactivity, compiler=compiler, result=result)\n"
          ],
          "name": "stderr"
        }
      ]
    },
    {
      "cell_type": "code",
      "metadata": {
        "id": "czbBiZBhUN1s",
        "colab_type": "code",
        "colab": {
          "base_uri": "https://localhost:8080/",
          "height": 437
        },
        "outputId": "bd1aa608-656f-4e38-c373-67bc2401861d"
      },
      "source": [
        "dadosBRbruto.info()"
      ],
      "execution_count": 5,
      "outputs": [
        {
          "output_type": "stream",
          "text": [
            "<class 'pandas.core.frame.DataFrame'>\n",
            "RangeIndex: 858433 entries, 0 to 858432\n",
            "Data columns (total 18 columns):\n",
            " #   Column                  Non-Null Count   Dtype  \n",
            "---  ------                  --------------   -----  \n",
            " 0   Unnamed: 0              858433 non-null  int64  \n",
            " 1   regiao                  858433 non-null  object \n",
            " 2   estado                  858249 non-null  object \n",
            " 3   municipio               850068 non-null  object \n",
            " 4   coduf                   858433 non-null  int64  \n",
            " 5   codmun                  853281 non-null  float64\n",
            " 6   codRegiaoSaude          850068 non-null  float64\n",
            " 7   nomeRegiaoSaude         850068 non-null  object \n",
            " 8   data                    858433 non-null  object \n",
            " 9   semanaEpi               858433 non-null  int64  \n",
            " 10  populacaoTCU2019        855220 non-null  object \n",
            " 11  casosAcumulado          858433 non-null  int64  \n",
            " 12  casosNovos              858433 non-null  int64  \n",
            " 13  obitosAcumulado         858433 non-null  int64  \n",
            " 14  obitosNovos             858433 non-null  int64  \n",
            " 15  Recuperadosnovos        130 non-null     float64\n",
            " 16  emAcompanhamentoNovos   130 non-null     float64\n",
            " 17  interior/metropolitana  850068 non-null  float64\n",
            "dtypes: float64(5), int64(7), object(6)\n",
            "memory usage: 117.9+ MB\n"
          ],
          "name": "stdout"
        }
      ]
    },
    {
      "cell_type": "code",
      "metadata": {
        "id": "gHvh9IXuUlvq",
        "colab_type": "code",
        "colab": {}
      },
      "source": [
        ""
      ],
      "execution_count": null,
      "outputs": []
    }
  ]
}