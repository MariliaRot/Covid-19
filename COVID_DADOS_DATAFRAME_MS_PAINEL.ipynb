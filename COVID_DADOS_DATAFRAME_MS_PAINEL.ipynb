{
  "nbformat": 4,
  "nbformat_minor": 0,
  "metadata": {
    "colab": {
      "name": "COVID-DADOS-DATAFRAME-MS-PAINEL.ipynb",
      "provenance": [],
      "collapsed_sections": [],
      "authorship_tag": "ABX9TyNa7k3kivkJ2/bM4KusHrng",
      "include_colab_link": true
    },
    "kernelspec": {
      "name": "python3",
      "display_name": "Python 3"
    }
  },
  "cells": [
    {
      "cell_type": "markdown",
      "metadata": {
        "id": "view-in-github",
        "colab_type": "text"
      },
      "source": [
        "<a href=\"https://colab.research.google.com/github/MariliaRot/Covid-19/blob/master/COVID_DADOS_DATAFRAME_MS_PAINEL.ipynb\" target=\"_parent\"><img src=\"https://colab.research.google.com/assets/colab-badge.svg\" alt=\"Open In Colab\"/></a>"
      ]
    },
    {
      "cell_type": "markdown",
      "metadata": {
        "id": "x8hp2gUnTM0t",
        "colab_type": "text"
      },
      "source": [
        "# Análise exploratoria de dados - COVID19 no Ceará\n",
        "Objetivo = fazer a predição de casos utilizando o modelo SIR (Sucetiveis - Infectados - Recuperados)\n",
        "\n",
        "Fonte dos dados : Painel Corona Virus - Ministerio da Saude (https://covid.saude.gov.br/)"
      ]
    },
    {
      "cell_type": "code",
      "metadata": {
        "id": "hV8rU7EjS08c",
        "colab_type": "code",
        "colab": {
          "base_uri": "https://localhost:8080/",
          "height": 121
        },
        "outputId": "0f0a006e-8414-4dc6-b8ec-18e00b16ce57"
      },
      "source": [
        "# Montando o Google Drive para obtenção da base de dados\n",
        "from google.colab import drive\n",
        "drive.mount('/content/drive')"
      ],
      "execution_count": 1,
      "outputs": [
        {
          "output_type": "stream",
          "text": [
            "Go to this URL in a browser: https://accounts.google.com/o/oauth2/auth?client_id=947318989803-6bn6qk8qdgf4n4g3pfee6491hc0brc4i.apps.googleusercontent.com&redirect_uri=urn%3aietf%3awg%3aoauth%3a2.0%3aoob&scope=email%20https%3a%2f%2fwww.googleapis.com%2fauth%2fdocs.test%20https%3a%2f%2fwww.googleapis.com%2fauth%2fdrive%20https%3a%2f%2fwww.googleapis.com%2fauth%2fdrive.photos.readonly%20https%3a%2f%2fwww.googleapis.com%2fauth%2fpeopleapi.readonly&response_type=code\n",
            "\n",
            "Enter your authorization code:\n",
            "··········\n",
            "Mounted at /content/drive\n"
          ],
          "name": "stdout"
        }
      ]
    },
    {
      "cell_type": "markdown",
      "metadata": {
        "id": "pIq-NHPlTG_a",
        "colab_type": "text"
      },
      "source": [
        "import "
      ]
    },
    {
      "cell_type": "code",
      "metadata": {
        "id": "rBNaPutUWBW7",
        "colab_type": "code",
        "colab": {}
      },
      "source": [
        "import pandas as pd\n",
        "import numpy as np\n",
        "import matplotlib.pyplot as plt\n",
        "from datetime import datetime, timedelta, date\n",
        "from scipy.integrate import odeint\n",
        "from scipy.optimize import minimize"
      ],
      "execution_count": 8,
      "outputs": []
    },
    {
      "cell_type": "code",
      "metadata": {
        "id": "a62A9kYcS7DA",
        "colab_type": "code",
        "colab": {
          "base_uri": "https://localhost:8080/",
          "height": 50
        },
        "outputId": "42e6227f-e483-4824-b04c-eae6e18fa3b8"
      },
      "source": [
        "caminho_dados_br = '/content/drive/My Drive/Colab Notebooks/PAINEL_MINISTERIO_DA_SAUDE-BR/HIST-COVIDBR-26082020.csv'\n",
        "\n",
        "dadosBRbruto = pd.read_csv(caminho_dados_br)"
      ],
      "execution_count": 7,
      "outputs": [
        {
          "output_type": "stream",
          "text": [
            "/usr/local/lib/python3.6/dist-packages/IPython/core/interactiveshell.py:2718: DtypeWarning: Columns (10) have mixed types.Specify dtype option on import or set low_memory=False.\n",
            "  interactivity=interactivity, compiler=compiler, result=result)\n"
          ],
          "name": "stderr"
        }
      ]
    },
    {
      "cell_type": "code",
      "metadata": {
        "id": "czbBiZBhUN1s",
        "colab_type": "code",
        "colab": {
          "base_uri": "https://localhost:8080/",
          "height": 437
        },
        "outputId": "bd1aa608-656f-4e38-c373-67bc2401861d"
      },
      "source": [
        "dadosBRbruto.info()"
      ],
      "execution_count": 5,
      "outputs": [
        {
          "output_type": "stream",
          "text": [
            "<class 'pandas.core.frame.DataFrame'>\n",
            "RangeIndex: 858433 entries, 0 to 858432\n",
            "Data columns (total 18 columns):\n",
            " #   Column                  Non-Null Count   Dtype  \n",
            "---  ------                  --------------   -----  \n",
            " 0   Unnamed: 0              858433 non-null  int64  \n",
            " 1   regiao                  858433 non-null  object \n",
            " 2   estado                  858249 non-null  object \n",
            " 3   municipio               850068 non-null  object \n",
            " 4   coduf                   858433 non-null  int64  \n",
            " 5   codmun                  853281 non-null  float64\n",
            " 6   codRegiaoSaude          850068 non-null  float64\n",
            " 7   nomeRegiaoSaude         850068 non-null  object \n",
            " 8   data                    858433 non-null  object \n",
            " 9   semanaEpi               858433 non-null  int64  \n",
            " 10  populacaoTCU2019        855220 non-null  object \n",
            " 11  casosAcumulado          858433 non-null  int64  \n",
            " 12  casosNovos              858433 non-null  int64  \n",
            " 13  obitosAcumulado         858433 non-null  int64  \n",
            " 14  obitosNovos             858433 non-null  int64  \n",
            " 15  Recuperadosnovos        130 non-null     float64\n",
            " 16  emAcompanhamentoNovos   130 non-null     float64\n",
            " 17  interior/metropolitana  850068 non-null  float64\n",
            "dtypes: float64(5), int64(7), object(6)\n",
            "memory usage: 117.9+ MB\n"
          ],
          "name": "stdout"
        }
      ]
    },
    {
      "cell_type": "code",
      "metadata": {
        "id": "G4xeI7e1ZBZ4",
        "colab_type": "code",
        "colab": {
          "base_uri": "https://localhost:8080/",
          "height": 487
        },
        "outputId": "e8e368b6-0fd0-4ec5-9df5-39325b0d62c3"
      },
      "source": [
        "## Quantidade de casos por ESTADO\n",
        "dadosBRbruto['estado'].value_counts()"
      ],
      "execution_count": 14,
      "outputs": [
        {
          "output_type": "execute_result",
          "data": {
            "text/plain": [
              "MG    130846\n",
              "SP     99022\n",
              "RS     74848\n",
              "BA     64138\n",
              "PR     61231\n",
              "SC     45472\n",
              "GO     37669\n",
              "PI     34456\n",
              "PB     34456\n",
              "MA     33538\n",
              "PE     28642\n",
              "CE     28489\n",
              "RN     25888\n",
              "PA     22216\n",
              "MT     21910\n",
              "TO     21604\n",
              "AL     15943\n",
              "RJ     14413\n",
              "ES     12271\n",
              "MS     12271\n",
              "SE     11812\n",
              "AM      9670\n",
              "RO      8293\n",
              "AC      3550\n",
              "RR      2632\n",
              "AP      2632\n",
              "DF       337\n",
              "Name: estado, dtype: int64"
            ]
          },
          "metadata": {
            "tags": []
          },
          "execution_count": 14
        }
      ]
    },
    {
      "cell_type": "code",
      "metadata": {
        "id": "01owVbxj2vmG",
        "colab_type": "code",
        "colab": {
          "base_uri": "https://localhost:8080/",
          "height": 282
        },
        "outputId": "ca1a33d6-5f27-40be-bcca-bec14951a5bb"
      },
      "source": [
        "#casosAcumData= dadosBRbruto.filter(items=['casosAcumulado','estado','data']).where(dadosBRbruto.estado =='CE').sort_values(by='casosAcumulado', ascending=True)\n",
        "#casosAcumData\n",
        "\n",
        "casosAcumDataCE = dadosBRbruto[dadosBRbruto[\"estado\"] == 'CE']\n",
        "data = casosAcumDataCE.filter(items=['casosAcumulado','data','obitosAcumulado']).where(dadosBRbruto.casosAcumulado > 0).sort_values(by='data', ascending=True)\n",
        "data['casosAcumulado'].plot(x=\"data\")"
      ],
      "execution_count": 101,
      "outputs": [
        {
          "output_type": "execute_result",
          "data": {
            "text/plain": [
              "<matplotlib.axes._subplots.AxesSubplot at 0x7fbd9e1cd7f0>"
            ]
          },
          "metadata": {
            "tags": []
          },
          "execution_count": 101
        },
        {
          "output_type": "display_data",
          "data": {
            "image/png": "[encoded data removed]",
            "text/plain": [
              "<Figure size 432x288 with 1 Axes>"
            ]
          },
          "metadata": {
            "tags": [],
            "needs_background": "light"
          }
        }
      ]
    },
    {
      "cell_type": "code",
      "metadata": {
        "id": "U5jl1KEDfHkk",
        "colab_type": "code",
        "colab": {}
      },
      "source": [
        "#casosAcumData= dadosBRbruto.filter(items=['casosAcumulado','estado','data']).where(dadosBRbruto.estado =='CE').sort_values(by='casosAcumulado', ascending=True)\n",
        "#casosAcumData\n",
        "\n",
        "casosAcumDataCE = dadosBRbruto[dadosBRbruto[\"estado\"] == 'CE']\n",
        "data = casosAcumDataCE.filter(items=['data']).where(dadosBRbruto.casosAcumulado > 0).sort_values(by='data', ascending=True)\n",
        "casos = casosAcumDataCE.filter(items=['casosAcumulado']).where(dadosBRbruto.casosAcumulado > 0).sort_values(by='casosAcumulado', ascending=True)\n",
        "mortos= casosAcumDataCE.filter(items=['obitosAcumulado']).sort_values(by='obitosAcumulado', ascending=True)\n",
        "casosAcumCE_datas = data.dropna()\n",
        "casosAcumCE_casos = casos.dropna()\n",
        "casosAcumCE_mortos = mortos.dropna()\n",
        "casosAcumCE_datas = data.drop_duplicates()\n",
        "casosAcumCE_casos = casos.drop_duplicates()\n",
        "casosAcumCE_mortos= casosAcumCE_mortos.drop_duplicates()"
      ],
      "execution_count": 96,
      "outputs": []
    },
    {
      "cell_type": "code",
      "metadata": {
        "id": "wd1LLfsQwkh4",
        "colab_type": "code",
        "colab": {
          "base_uri": "https://localhost:8080/",
          "height": 402
        },
        "outputId": "cd08d02c-52af-4020-e7e0-62f7db3431d6"
      },
      "source": [
        "mortos"
      ],
      "execution_count": 97,
      "outputs": [
        {
          "output_type": "execute_result",
          "data": {
            "text/html": [
              "<div>\n",
              "<style scoped>\n",
              "    .dataframe tbody tr th:only-of-type {\n",
              "        vertical-align: middle;\n",
              "    }\n",
              "\n",
              "    .dataframe tbody tr th {\n",
              "        vertical-align: top;\n",
              "    }\n",
              "\n",
              "    .dataframe thead th {\n",
              "        text-align: right;\n",
              "    }\n",
              "</style>\n",
              "<table border=\"1\" class=\"dataframe\">\n",
              "  <thead>\n",
              "    <tr style=\"text-align: right;\">\n",
              "      <th></th>\n",
              "      <th>obitosAcumulado</th>\n",
              "    </tr>\n",
              "  </thead>\n",
              "  <tbody>\n",
              "    <tr>\n",
              "      <th>1840</th>\n",
              "      <td>0</td>\n",
              "    </tr>\n",
              "    <tr>\n",
              "      <th>154374</th>\n",
              "      <td>0</td>\n",
              "    </tr>\n",
              "    <tr>\n",
              "      <th>154375</th>\n",
              "      <td>0</td>\n",
              "    </tr>\n",
              "    <tr>\n",
              "      <th>154376</th>\n",
              "      <td>0</td>\n",
              "    </tr>\n",
              "    <tr>\n",
              "      <th>154377</th>\n",
              "      <td>0</td>\n",
              "    </tr>\n",
              "    <tr>\n",
              "      <th>...</th>\n",
              "      <td>...</td>\n",
              "    </tr>\n",
              "    <tr>\n",
              "      <th>2019</th>\n",
              "      <td>8286</td>\n",
              "    </tr>\n",
              "    <tr>\n",
              "      <th>2020</th>\n",
              "      <td>8289</td>\n",
              "    </tr>\n",
              "    <tr>\n",
              "      <th>2021</th>\n",
              "      <td>8292</td>\n",
              "    </tr>\n",
              "    <tr>\n",
              "      <th>2022</th>\n",
              "      <td>8339</td>\n",
              "    </tr>\n",
              "    <tr>\n",
              "      <th>2023</th>\n",
              "      <td>8351</td>\n",
              "    </tr>\n",
              "  </tbody>\n",
              "</table>\n",
              "<p>28489 rows × 1 columns</p>\n",
              "</div>"
            ],
            "text/plain": [
              "        obitosAcumulado\n",
              "1840                  0\n",
              "154374                0\n",
              "154375                0\n",
              "154376                0\n",
              "154377                0\n",
              "...                 ...\n",
              "2019               8286\n",
              "2020               8289\n",
              "2021               8292\n",
              "2022               8339\n",
              "2023               8351\n",
              "\n",
              "[28489 rows x 1 columns]"
            ]
          },
          "metadata": {
            "tags": []
          },
          "execution_count": 97
        }
      ]
    },
    {
      "cell_type": "code",
      "metadata": {
        "id": "ESXlLDxaozeM",
        "colab_type": "code",
        "colab": {
          "base_uri": "https://localhost:8080/",
          "height": 34
        },
        "outputId": "6e4bde1d-9a61-4b09-fa49-75facb74ebd6"
      },
      "source": [
        "#colocando dados casos acumludados e suas datas em arrays\n",
        "\n",
        "yy =casosAcumCE_casos['casosAcumulado'].tolist()\n",
        "xx = casosAcumCE_datas['data'].tolist()\n",
        "\n",
        "ydata =np.array(yy)\n",
        "xdata = np.array(xx)\n",
        "mortos = \n",
        "\n",
        "len(xdata)"
      ],
      "execution_count": 78,
      "outputs": [
        {
          "output_type": "execute_result",
          "data": {
            "text/plain": [
              "164"
            ]
          },
          "metadata": {
            "tags": []
          },
          "execution_count": 78
        }
      ]
    },
    {
      "cell_type": "code",
      "metadata": {
        "id": "iGr7mkHUq6Nm",
        "colab_type": "code",
        "colab": {
          "base_uri": "https://localhost:8080/",
          "height": 34
        },
        "outputId": "75737228-0b86-4083-d30c-cd1cdcef5ead"
      },
      "source": [
        "len(ydata)"
      ],
      "execution_count": 79,
      "outputs": [
        {
          "output_type": "execute_result",
          "data": {
            "text/plain": [
              "2536"
            ]
          },
          "metadata": {
            "tags": []
          },
          "execution_count": 79
        }
      ]
    },
    {
      "cell_type": "code",
      "metadata": {
        "id": "gHvh9IXuUlvq",
        "colab_type": "code",
        "colab": {
          "base_uri": "https://localhost:8080/",
          "height": 252
        },
        "outputId": "a6c4be75-47f1-46ad-e4c0-018aa69a0ad5"
      },
      "source": [
        "# Total population, N.\n",
        "N = 9187103 \n",
        "# número inicial de infectados e mortos\n",
        "I0, M0 = 1, 0\n",
        "# Everyone else, S0, is susceptible to infection initially.\n",
        "S0 = N - I0 - M0\n",
        "# Contact rate, beta, and mean recovery rate, gamma, (in 1/days).\n",
        "#beta, gamma = 1.0E-3,1.0E-3 \n",
        "\n",
        "t = np.linspace(start = 1, stop = 164, num = 164)\n",
        "\n",
        "print(t)\n",
        "print(ydata.shape[0])\n",
        "print(xdata.shape[0])"
      ],
      "execution_count": 81,
      "outputs": [
        {
          "output_type": "stream",
          "text": [
            "[  1.   2.   3.   4.   5.   6.   7.   8.   9.  10.  11.  12.  13.  14.\n",
            "  15.  16.  17.  18.  19.  20.  21.  22.  23.  24.  25.  26.  27.  28.\n",
            "  29.  30.  31.  32.  33.  34.  35.  36.  37.  38.  39.  40.  41.  42.\n",
            "  43.  44.  45.  46.  47.  48.  49.  50.  51.  52.  53.  54.  55.  56.\n",
            "  57.  58.  59.  60.  61.  62.  63.  64.  65.  66.  67.  68.  69.  70.\n",
            "  71.  72.  73.  74.  75.  76.  77.  78.  79.  80.  81.  82.  83.  84.\n",
            "  85.  86.  87.  88.  89.  90.  91.  92.  93.  94.  95.  96.  97.  98.\n",
            "  99. 100. 101. 102. 103. 104. 105. 106. 107. 108. 109. 110. 111. 112.\n",
            " 113. 114. 115. 116. 117. 118. 119. 120. 121. 122. 123. 124. 125. 126.\n",
            " 127. 128. 129. 130. 131. 132. 133. 134. 135. 136. 137. 138. 139. 140.\n",
            " 141. 142. 143. 144. 145. 146. 147. 148. 149. 150. 151. 152. 153. 154.\n",
            " 155. 156. 157. 158. 159. 160. 161. 162. 163. 164.]\n",
            "2536\n",
            "164\n"
          ],
          "name": "stdout"
        }
      ]
    },
    {
      "cell_type": "code",
      "metadata": {
        "id": "dErHd60xV3W0",
        "colab_type": "code",
        "colab": {}
      },
      "source": [
        "def deriv(y, t, N, beta, gamma):\n",
        "    S, I, M = y\n",
        "    dSdt = -beta * S * I / N\n",
        "    dIdt = beta * S * I / N - gamma * I\n",
        "    dMdt = gamma * I\n",
        "    return dSdt, dIdt, dMdt\n",
        "\n",
        "def obj(x):\n",
        "  y0 = S0, I0, M0\n",
        "  ret = odeint(deriv, y0, t, args=(N, x[0], x[1]))\n",
        "  S, I, M = ret.T  \n",
        "  return linalg.norm(I-ydata) +linalg.norm(M-mortos)\n",
        "\n",
        "x0 = np.array([10,10])\n",
        "result = minimize(obj, x0, method='Nelder-Mead', tol=1e-7)\n",
        "print(result.fun,result.x)\n",
        "\n",
        "beta = result.x[0]\n",
        "gamma = result.x[1]\n",
        "# Initial conditions vector\n",
        "y0 = S0, I0, M0\n",
        "#time\n",
        "t2 = np.linspace(start = 1, stop = 160, num = 160)\n",
        "ret = odeint(deriv, y0, t, args=(N, beta, gamma))\n",
        "S, I, M = ret.T"
      ],
      "execution_count": null,
      "outputs": []
    }
  ]
}